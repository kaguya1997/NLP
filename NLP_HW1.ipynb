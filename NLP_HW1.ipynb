{
 "cells": [
  {
   "cell_type": "code",
   "execution_count": 142,
   "id": "efab44d8",
   "metadata": {},
   "outputs": [],
   "source": [
    "import os\n",
    "import jieba\n",
    "import jieba.analyse\n",
    "import sys\n",
    "import matplotlib.pyplot as plt\n",
    "import numpy as np\n",
    "\n",
    "if not os.path.exists('hw1-dataset.txt'):\n",
    "    !wget https://raw.githubusercontent.com/cjwu/cjwu.github.io/master/courses/nlp/hw1-dataset.txt\n",
    "if not os.path.exists('dict.txt.big'):\n",
    "    !wget https://raw.githubusercontent.com/fxsjy/jieba/master/extra_dict/dict.txt.big"
   ]
  },
  {
   "cell_type": "code",
   "execution_count": 71,
   "id": "096d3f9b",
   "metadata": {},
   "outputs": [],
   "source": [
    "stopwords=[]\n",
    "for word in open('stopwords.txt','r', encoding='utf-8'):\n",
    "    stopwords.append(word.strip())"
   ]
  },
  {
   "cell_type": "code",
   "execution_count": 2,
   "id": "c6ab4524",
   "metadata": {},
   "outputs": [
    {
     "name": "stdout",
     "output_type": "stream",
     "text": [
      "418202\n"
     ]
    }
   ],
   "source": [
    "filename = \"hw1-dataset.txt\" \n",
    "myfile = open(filename,'rb') \n",
    "lines = len(myfile.readlines()) \n",
    "print(lines) #確認行數"
   ]
  },
  {
   "cell_type": "code",
   "execution_count": 64,
   "id": "c1395be4",
   "metadata": {},
   "outputs": [],
   "source": [
    "content = []\n",
    "for i in open(filename,'r', encoding='utf-8'): \n",
    "    content.append(jieba.lcut(i))"
   ]
  },
  {
   "cell_type": "code",
   "execution_count": 93,
   "id": "4e27781d",
   "metadata": {},
   "outputs": [
    {
     "name": "stdout",
     "output_type": "stream",
     "text": [
      "['為', '什麼', ' ', '聖結石', ' ', '會', '被', '酸', '而', ' ', '這群', '人', ' ', '不會', '？', '\\t', '質感', ' ', '劇本', ' ', '成員', ' ', '都', '差', '很多', '好', '嗎', ' ', '不要', '拿', '腎', '結石來', '污辱', '這群', '人', '\\n']\n"
     ]
    }
   ],
   "source": [
    "print(content[0]) #印一下第0行確認無誤"
   ]
  },
  {
   "cell_type": "code",
   "execution_count": 110,
   "id": "0ba54d08",
   "metadata": {},
   "outputs": [],
   "source": [
    "wordcount = {}\n",
    "counter = 0\n",
    "for i in range(lines):\n",
    "    for word in content[i]:\n",
    "        if len(word) > 1:\n",
    "            if word not in stopwords:\n",
    "                wordcount[word] = wordcount.get(word, 0)+1\n",
    "                counter += 1\n",
    "index = sorted(wordcount.items(), key=lambda x: x[1], reverse=True)[:100] #依照出現頻率高低進行排序並儲存"
   ]
  },
  {
   "cell_type": "code",
   "execution_count": 112,
   "id": "011ca933",
   "metadata": {},
   "outputs": [
    {
     "name": "stdout",
     "output_type": "stream",
     "text": [
      "[('八卦', 79119), ('台灣', 35851), ('可以', 23236), ('肥宅', 21771), ('真的', 16890), ('知道', 14114), ('自己', 13560), ('不是', 11943), ('現在', 11279), ('就是', 11021), ('如果', 10690), ('還是', 10589), ('一個', 10535), ('中國', 10230), ('一堆', 10098), ('這樣', 9671), ('有人', 9666), ('怎樣', 8861), ('時候', 8806), ('女生', 8630), ('日本', 8594), ('一樣', 8514), ('到底', 8471), ('不要', 8245), ('大家', 7886), ('很多', 7488), ('應該', 7003), ('喜歡', 6782), ('因為', 6652), ('看到', 6323), ('朋友', 6303), ('問題', 6177), ('感覺', 6147), ('哪個', 6126), ('如何', 6007), ('這麼', 5924), ('多少', 5830), ('一直', 5686), ('覺得', 5527), ('這種', 5414), ('美國', 5358), ('不能', 5267), ('不用', 5230), ('根本', 4952), ('一定', 4863), ('正妹', 4833), ('其實', 4623), ('只有', 4487), ('為何', 4464), ('還有', 4373), ('東西', 4368), ('比較', 4308), ('台北', 4288), ('那麼', 4264), ('可能', 4249), ('以前', 4139), ('QQ', 3990), ('時間', 3965), ('一下', 3937), ('開始', 3919), ('這個', 3850), ('妹妹', 3812), ('哪裡', 3806), ('世界', 3792), ('今天', 3775), ('沒人', 3725), ('甚麼', 3700), ('出來', 3656), ('所以', 3633), ('那個', 3577), ('直接', 3563), ('發現', 3559), ('中國人', 3554), ('國家', 3554), ('不到', 3494), ('工作', 3483), ('只是', 3395), ('男生', 3323), ('好吃', 3320), ('他們', 3220), ('公司', 3199), ('老婆', 3157), ('女友', 3146), ('已經', 2959), ('老師', 2943), ('大學', 2937), ('變成', 2877), ('人家', 2840), ('一起', 2829), ('邊緣', 2807), ('我們', 2786), ('結果', 2786), ('南部', 2744), ('需要', 2726), ('好像', 2712), ('遊戲', 2690), ('而已', 2679), ('一次', 2655), ('第一', 2640), ('手機', 2595)]\n"
     ]
    }
   ],
   "source": [
    "print(index) #確認結果"
   ]
  },
  {
   "cell_type": "code",
   "execution_count": 115,
   "id": "4d217ab3",
   "metadata": {},
   "outputs": [
    {
     "name": "stdout",
     "output_type": "stream",
     "text": [
      "79119\n"
     ]
    }
   ],
   "source": [
    "print(index[0][1]) #檢查一下[0][1]是否為欲取用的值"
   ]
  },
  {
   "cell_type": "code",
   "execution_count": 149,
   "id": "f54d20ad",
   "metadata": {},
   "outputs": [],
   "source": [
    "xpt = np.arange(0,100,1)\n",
    "ypt = np.zeros(100)\n",
    "for i in range(100):\n",
    "    ypt[i] = index[i][1]"
   ]
  },
  {
   "cell_type": "code",
   "execution_count": 150,
   "id": "5823cf59",
   "metadata": {},
   "outputs": [
    {
     "data": {
      "image/png": "[encoded data removed]",
      "text/plain": [
       "<Figure size 432x288 with 1 Axes>"
      ]
     },
     "metadata": {
      "needs_background": "light"
     },
     "output_type": "display_data"
    }
   ],
   "source": [
    "plt.plot(xpt,ypt)\n",
    "plt.show()"
   ]
  },
  {
   "cell_type": "markdown",
   "id": "b6ccab36",
   "metadata": {},
   "source": [
    "以上為出現頻率圖，X軸為字詞編號，Y軸為出現頻率(由高到低)"
   ]
  },
  {
   "cell_type": "code",
   "execution_count": 151,
   "id": "b3c74bfb",
   "metadata": {},
   "outputs": [],
   "source": [
    "freq = np.zeros(100)\n",
    "for i in range(100):\n",
    "    for j in range(lines):\n",
    "        if index[i][0] in content[j]:\n",
    "            freq[i] += 1"
   ]
  },
  {
   "cell_type": "code",
   "execution_count": 152,
   "id": "0a416fe9",
   "metadata": {},
   "outputs": [
    {
     "name": "stdout",
     "output_type": "stream",
     "text": [
      "[78029. 31075. 22156. 18500. 16314. 13613. 12736. 11737. 11045. 10797.\n",
      " 10515. 10388.  9668.  8885.  9905.  9481.  9474.  8623.  8415.  8116.\n",
      "  7406.  8315.  8434.  7884.  7805.  7321.  6933.  6340.  6601.  6123.\n",
      "  5756.  5761.  5827.  6075.  5979.  5839.  5664.  5502.  5406.  5362.\n",
      "  4783.  5102.  5108.  4908.  4772.  4402.  4575.  4434.  4449.  4333.\n",
      "  4293.  4210.  3867.  4197.  4171.  4013.  3938.  3763.  3842.  3779.\n",
      "  3815.  3309.  3759.  3622.  3681.  3653.  3668.  3597.  3616.  3518.\n",
      "  3521.  3440.  3168.  3311.  3393.  3252.  3376.  3122.  3044.  3098.\n",
      "  2963.  2935.  2899.  2928.  2624.  2651.  2817.  2785.  2760.  2447.\n",
      "  2709.  2767.  2382.  2640.  2692.  2477.  2673.  2535.  2531.  2392.]\n"
     ]
    }
   ],
   "source": [
    "print(freq)"
   ]
  },
  {
   "cell_type": "markdown",
   "id": "5470857b",
   "metadata": {},
   "source": [
    "接著套用公式 idf = log(418202/freq) "
   ]
  },
  {
   "cell_type": "code",
   "execution_count": 153,
   "id": "7363581a",
   "metadata": {},
   "outputs": [],
   "source": [
    "idf = np.zeros(100)\n",
    "for i in range(100):\n",
    "    idf[i] = np.log10(lines / freq[i])"
   ]
  },
  {
   "cell_type": "code",
   "execution_count": 154,
   "id": "ffacce80",
   "metadata": {},
   "outputs": [
    {
     "name": "stdout",
     "output_type": "stream",
     "text": [
      "[0.72913006 1.12897497 1.27589475 1.35421438 1.40882565 1.48743226\n",
      " 1.51635306 1.551829   1.57822039 1.588083   1.59957683 1.60485416\n",
      " 1.63604946 1.67272867 1.62553163 1.64453196 1.64485273 1.68572772\n",
      " 1.69633199 1.71204407 1.7518024  1.70152385 1.69535251 1.72463949\n",
      " 1.7290132  1.7568157  1.78046491 1.81929685 1.80177637 1.83442185\n",
      " 1.86126532 1.86088823 1.85594109 1.83783982 1.84475755 1.85504763\n",
      " 1.86826286 1.88086552 1.88851006 1.8920593  1.94168572 1.91364565\n",
      " 1.91313522 1.93048155 1.94268567 1.97773607 1.96099501 1.97459042\n",
      " 1.9731237  1.98459742 1.98862522 1.99710401 2.03401193 1.99844714\n",
      " 2.00114592 2.01791695 2.02611039 2.04585189 2.03682874 2.04400921\n",
      " 2.03989156 2.10168934 2.04631378 2.06243766 2.05542029 2.05873643\n",
      " 2.05695678 2.06544567 2.06315768 2.07509027 2.07472008 2.08482766\n",
      " 2.12060093 2.10142692 2.09080225 2.10923557 2.09298367 2.12695321\n",
      " 2.13794146 2.13030469 2.14965445 2.153778   2.15913789 2.15481503\n",
      " 2.20242227 2.19797638 2.17159926 2.17656091 2.18047702 2.23275214\n",
      " 2.1885771  2.17937695 2.24444435 2.19978218 2.19131105 2.2274601\n",
      " 2.19438715 2.21740814 2.21809396 2.24262493]\n"
     ]
    }
   ],
   "source": [
    "print(idf)"
   ]
  },
  {
   "cell_type": "code",
   "execution_count": 160,
   "id": "f6b78269",
   "metadata": {},
   "outputs": [
    {
     "name": "stdout",
     "output_type": "stream",
     "text": [
      "8301101\n"
     ]
    }
   ],
   "source": [
    "total = 0\n",
    "for i in range(lines):\n",
    "    total += len(content[i])\n",
    "print(total) #total為字詞總數"
   ]
  },
  {
   "cell_type": "code",
   "execution_count": 161,
   "id": "a92d1171",
   "metadata": {},
   "outputs": [],
   "source": [
    "tf = np.zeros(100)\n",
    "tfidf = np.zeros(100)\n",
    "for i in range(100):\n",
    "    tf[i] = ypt[i] / total\n",
    "    tfidf[i] = tf[i] * idf[i]"
   ]
  },
  {
   "cell_type": "code",
   "execution_count": 162,
   "id": "a9bdbd1e",
   "metadata": {},
   "outputs": [
    {
     "data": {
      "image/png": "[encoded data removed]",
      "text/plain": [
       "<Figure size 432x288 with 1 Axes>"
      ]
     },
     "metadata": {
      "needs_background": "light"
     },
     "output_type": "display_data"
    }
   ],
   "source": [
    "plt.plot(xpt,tfidf)\n",
    "plt.show()"
   ]
  },
  {
   "cell_type": "markdown",
   "id": "a92cd6ca",
   "metadata": {},
   "source": [
    "以上為tfidf權重圖，x軸為字詞編號，y軸為權重"
   ]
  },
  {
   "cell_type": "code",
   "execution_count": null,
   "id": "b9acdeb8",
   "metadata": {},
   "outputs": [],
   "source": []
  }
 ],
 "metadata": {
  "kernelspec": {
   "display_name": "Python 3",
   "language": "python",
   "name": "python3"
  },
  "language_info": {
   "codemirror_mode": {
    "name": "ipython",
    "version": 3
   },
   "file_extension": ".py",
   "mimetype": "text/x-python",
   "name": "python",
   "nbconvert_exporter": "python",
   "pygments_lexer": "ipython3",
   "version": "3.8.8"
  }
 },
 "nbformat": 4,
 "nbformat_minor": 5
}
