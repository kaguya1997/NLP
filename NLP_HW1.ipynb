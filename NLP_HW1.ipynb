{
 "cells": [
  {
   "cell_type": "code",
   "execution_count": 142,
   "id": "10e2a854",
   "metadata": {},
   "outputs": [],
   "source": [
    "import os\n",
    "import jieba\n",
    "import jieba.analyse\n",
    "import sys\n",
    "import matplotlib.pyplot as plt\n",
    "import numpy as np\n",
    "\n",
    "if not os.path.exists('hw1-dataset.txt'):\n",
    "    !wget https://raw.githubusercontent.com/cjwu/cjwu.github.io/master/courses/nlp/hw1-dataset.txt\n",
    "if not os.path.exists('dict.txt.big'):\n",
    "    !wget https://raw.githubusercontent.com/fxsjy/jieba/master/extra_dict/dict.txt.big"
   ]
  },
  {
   "cell_type": "code",
   "execution_count": 71,
   "id": "8adcdac8",
   "metadata": {},
   "outputs": [],
   "source": [
    "stopwords=[]\n",
    "for word in open('stopwords.txt','r', encoding='utf-8'):\n",
    "    stopwords.append(word.strip())"
   ]
  },
  {
   "cell_type": "code",
   "execution_count": 2,
   "id": "a128b4d6",
   "metadata": {},
   "outputs": [
    {
     "name": "stdout",
     "output_type": "stream",
     "text": [
      "418202\n"
     ]
    }
   ],
   "source": [
    "filename = \"hw1-dataset.txt\" \n",
    "myfile = open(filename,'rb') \n",
    "lines = len(myfile.readlines()) \n",
    "print(lines) #確認行數"
   ]
  },
  {
   "cell_type": "code",
   "execution_count": 64,
   "id": "df350c6a",
   "metadata": {},
   "outputs": [],
   "source": [
    "content = []\n",
    "for i in open(filename,'r', encoding='utf-8'): \n",
    "    content.append(jieba.lcut(i))"
   ]
  },
  {
   "cell_type": "code",
   "execution_count": 93,
   "id": "242a2a15",
   "metadata": {},
   "outputs": [
    {
     "name": "stdout",
     "output_type": "stream",
     "text": [
      "['為', '什麼', ' ', '聖結石', ' ', '會', '被', '酸', '而', ' ', '這群', '人', ' ', '不會', '？', '\\t', '質感', ' ', '劇本', ' ', '成員', ' ', '都', '差', '很多', '好', '嗎', ' ', '不要', '拿', '腎', '結石來', '污辱', '這群', '人', '\\n']\n"
     ]
    }
   ],
   "source": [
    "print(content[0]) #印一下第0行確認無誤"
   ]
  },
  {
   "cell_type": "code",
   "execution_count": 110,
   "id": "dd20cf3c",
   "metadata": {},
   "outputs": [],
   "source": [
    "wordcount = {}\n",
    "counter = 0\n",
    "for i in range(lines):\n",
    "    for word in content[i]:\n",
    "        if len(word) > 1:\n",
    "            if word not in stopwords:\n",
    "                wordcount[word] = wordcount.get(word, 0)+1\n",
    "                counter += 1\n",
    "index = sorted(wordcount.items(), key=lambda x: x[1], reverse=True)[:100] #依照出現頻率高低進行排序並儲存"
   ]
  },
  {
   "cell_type": "code",
   "execution_count": 112,
   "id": "1c30f272",
   "metadata": {},
   "outputs": [
    {
     "name": "stdout",
     "output_type": "stream",
     "text": [
      "[('八卦', 79119), ('台灣', 35851), ('可以', 23236), ('肥宅', 21771), ('真的', 16890), ('知道', 14114), ('自己', 13560), ('不是', 11943), ('現在', 11279), ('就是', 11021), ('如果', 10690), ('還是', 10589), ('一個', 10535), ('中國', 10230), ('一堆', 10098), ('這樣', 9671), ('有人', 9666), ('怎樣', 8861), ('時候', 8806), ('女生', 8630), ('日本', 8594), ('一樣', 8514), ('到底', 8471), ('不要', 8245), ('大家', 7886), ('很多', 7488), ('應該', 7003), ('喜歡', 6782), ('因為', 6652), ('看到', 6323), ('朋友', 6303), ('問題', 6177), ('感覺', 6147), ('哪個', 6126), ('如何', 6007), ('這麼', 5924), ('多少', 5830), ('一直', 5686), ('覺得', 5527), ('這種', 5414), ('美國', 5358), ('不能', 5267), ('不用', 5230), ('根本', 4952), ('一定', 4863), ('正妹', 4833), ('其實', 4623), ('只有', 4487), ('為何', 4464), ('還有', 4373), ('東西', 4368), ('比較', 4308), ('台北', 4288), ('那麼', 4264), ('可能', 4249), ('以前', 4139), ('QQ', 3990), ('時間', 3965), ('一下', 3937), ('開始', 3919), ('這個', 3850), ('妹妹', 3812), ('哪裡', 3806), ('世界', 3792), ('今天', 3775), ('沒人', 3725), ('甚麼', 3700), ('出來', 3656), ('所以', 3633), ('那個', 3577), ('直接', 3563), ('發現', 3559), ('中國人', 3554), ('國家', 3554), ('不到', 3494), ('工作', 3483), ('只是', 3395), ('男生', 3323), ('好吃', 3320), ('他們', 3220), ('公司', 3199), ('老婆', 3157), ('女友', 3146), ('已經', 2959), ('老師', 2943), ('大學', 2937), ('變成', 2877), ('人家', 2840), ('一起', 2829), ('邊緣', 2807), ('我們', 2786), ('結果', 2786), ('南部', 2744), ('需要', 2726), ('好像', 2712), ('遊戲', 2690), ('而已', 2679), ('一次', 2655), ('第一', 2640), ('手機', 2595)]\n"
     ]
    }
   ],
   "source": [
    "print(index) #確認結果"
   ]
  },
  {
   "cell_type": "code",
   "execution_count": 115,
   "id": "a38c6547",
   "metadata": {},
   "outputs": [
    {
     "name": "stdout",
     "output_type": "stream",
     "text": [
      "79119\n"
     ]
    }
   ],
   "source": [
    "print(index[0][1]) #檢查一下[0][1]是否為欲取用的值"
   ]
  },
  {
   "cell_type": "code",
   "execution_count": 149,
   "id": "46d80a77",
   "metadata": {},
   "outputs": [],
   "source": [
    "xpt = np.arange(0,100,1)\n",
    "ypt = np.zeros(100)\n",
    "for i in range(100):\n",
    "    ypt[i] = index[i][1]"
   ]
  },
  {
   "cell_type": "code",
   "execution_count": 150,
   "id": "a1f130c2",
   "metadata": {},
   "outputs": [
    {
     "data": {
      "image/png": "[encoded data removed]",
      "text/plain": [
       "<Figure size 432x288 with 1 Axes>"
      ]
     },
     "metadata": {
      "needs_background": "light"
     },
     "output_type": "display_data"
    }
   ],
   "source": [
    "plt.plot(xpt,ypt)\n",
    "plt.show()"
   ]
  },
  {
   "cell_type": "markdown",
   "id": "f081e4b7",
   "metadata": {},
   "source": [
    "以上為出現頻率圖，X軸為字詞編號，Y軸為出現頻率(由高到低)"
   ]
  },
  {
   "cell_type": "code",
   "execution_count": null,
   "id": "77837097",
   "metadata": {},
   "outputs": [],
   "source": []
  }
 ],
 "metadata": {
  "kernelspec": {
   "display_name": "Python 3",
   "language": "python",
   "name": "python3"
  },
  "language_info": {
   "codemirror_mode": {
    "name": "ipython",
    "version": 3
   },
   "file_extension": ".py",
   "mimetype": "text/x-python",
   "name": "python",
   "nbconvert_exporter": "python",
   "pygments_lexer": "ipython3",
   "version": "3.8.8"
  }
 },
 "nbformat": 4,
 "nbformat_minor": 5
}
